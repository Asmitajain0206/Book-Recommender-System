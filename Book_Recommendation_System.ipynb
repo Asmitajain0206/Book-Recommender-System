{
 "cells": [
  {
   "cell_type": "code",
   "execution_count": 1,
   "metadata": {
    "id": "GOORcMbYPvcN"
   },
   "outputs": [],
   "source": [
    "import numpy as np\n",
    "import pandas as pd"
   ]
  },
  {
   "cell_type": "code",
   "execution_count": 2,
   "metadata": {
    "id": "0twc7A2RSl7w"
   },
   "outputs": [],
   "source": [
    "books = pd.read_csv(r\"E:\\minor project- v sem\\archive\\Books.csv\",low_memory=False)\n",
    "users = pd.read_csv(r\"E:\\minor project- v sem\\archive\\Users.csv\",low_memory=False)\n",
    "ratings = pd.read_csv(r\"E:\\minor project- v sem\\archive\\Ratings.csv\",low_memory=False)"
   ]
  },
  {
   "cell_type": "code",
   "execution_count": 3,
   "metadata": {
    "colab": {
     "base_uri": "https://localhost:8080/",
     "height": 38
    },
    "id": "8FCVMV2gUvea",
    "outputId": "26d0d03c-63fe-4c1a-ab46-f7af6b4996cd"
   },
   "outputs": [
    {
     "data": {
      "text/plain": [
       "'http://images.amazon.com/images/P/0002005018.01.MZZZZZZZ.jpg'"
      ]
     },
     "execution_count": 3,
     "metadata": {},
     "output_type": "execute_result"
    }
   ],
   "source": [
    "books['Image-URL-M'][1]"
   ]
  },
  {
   "cell_type": "code",
   "execution_count": 4,
   "metadata": {
    "colab": {
     "base_uri": "https://localhost:8080/",
     "height": 410
    },
    "id": "Z9G9FIWzVJlR",
    "outputId": "17424f5b-ebeb-4599-942e-f40de4e3f16b"
   },
   "outputs": [
    {
     "data": {
      "text/html": [
       "<div>\n",
       "<style scoped>\n",
       "    .dataframe tbody tr th:only-of-type {\n",
       "        vertical-align: middle;\n",
       "    }\n",
       "\n",
       "    .dataframe tbody tr th {\n",
       "        vertical-align: top;\n",
       "    }\n",
       "\n",
       "    .dataframe thead th {\n",
       "        text-align: right;\n",
       "    }\n",
       "</style>\n",
       "<table border=\"1\" class=\"dataframe\">\n",
       "  <thead>\n",
       "    <tr style=\"text-align: right;\">\n",
       "      <th></th>\n",
       "      <th>User-ID</th>\n",
       "      <th>Location</th>\n",
       "      <th>Age</th>\n",
       "    </tr>\n",
       "  </thead>\n",
       "  <tbody>\n",
       "    <tr>\n",
       "      <th>0</th>\n",
       "      <td>1</td>\n",
       "      <td>nyc, new york, usa</td>\n",
       "      <td>NaN</td>\n",
       "    </tr>\n",
       "    <tr>\n",
       "      <th>1</th>\n",
       "      <td>2</td>\n",
       "      <td>stockton, california, usa</td>\n",
       "      <td>18.0</td>\n",
       "    </tr>\n",
       "    <tr>\n",
       "      <th>2</th>\n",
       "      <td>3</td>\n",
       "      <td>moscow, yukon territory, russia</td>\n",
       "      <td>NaN</td>\n",
       "    </tr>\n",
       "    <tr>\n",
       "      <th>3</th>\n",
       "      <td>4</td>\n",
       "      <td>porto, v.n.gaia, portugal</td>\n",
       "      <td>17.0</td>\n",
       "    </tr>\n",
       "    <tr>\n",
       "      <th>4</th>\n",
       "      <td>5</td>\n",
       "      <td>farnborough, hants, united kingdom</td>\n",
       "      <td>NaN</td>\n",
       "    </tr>\n",
       "  </tbody>\n",
       "</table>\n",
       "</div>"
      ],
      "text/plain": [
       "   User-ID                            Location   Age\n",
       "0        1                  nyc, new york, usa   NaN\n",
       "1        2           stockton, california, usa  18.0\n",
       "2        3     moscow, yukon territory, russia   NaN\n",
       "3        4           porto, v.n.gaia, portugal  17.0\n",
       "4        5  farnborough, hants, united kingdom   NaN"
      ]
     },
     "execution_count": 4,
     "metadata": {},
     "output_type": "execute_result"
    }
   ],
   "source": [
    "users.head(5)"
   ]
  },
  {
   "cell_type": "code",
   "execution_count": 5,
   "metadata": {
    "colab": {
     "base_uri": "https://localhost:8080/",
     "height": 214
    },
    "id": "Q_L3AhsxVWaQ",
    "outputId": "64258a5f-0f2a-411d-f71c-a81dd707c27f"
   },
   "outputs": [
    {
     "data": {
      "text/html": [
       "<div>\n",
       "<style scoped>\n",
       "    .dataframe tbody tr th:only-of-type {\n",
       "        vertical-align: middle;\n",
       "    }\n",
       "\n",
       "    .dataframe tbody tr th {\n",
       "        vertical-align: top;\n",
       "    }\n",
       "\n",
       "    .dataframe thead th {\n",
       "        text-align: right;\n",
       "    }\n",
       "</style>\n",
       "<table border=\"1\" class=\"dataframe\">\n",
       "  <thead>\n",
       "    <tr style=\"text-align: right;\">\n",
       "      <th></th>\n",
       "      <th>User-ID</th>\n",
       "      <th>ISBN</th>\n",
       "      <th>Book-Rating</th>\n",
       "    </tr>\n",
       "  </thead>\n",
       "  <tbody>\n",
       "    <tr>\n",
       "      <th>0</th>\n",
       "      <td>276725</td>\n",
       "      <td>034545104X</td>\n",
       "      <td>0</td>\n",
       "    </tr>\n",
       "    <tr>\n",
       "      <th>1</th>\n",
       "      <td>276726</td>\n",
       "      <td>0155061224</td>\n",
       "      <td>5</td>\n",
       "    </tr>\n",
       "    <tr>\n",
       "      <th>2</th>\n",
       "      <td>276727</td>\n",
       "      <td>0446520802</td>\n",
       "      <td>0</td>\n",
       "    </tr>\n",
       "    <tr>\n",
       "      <th>3</th>\n",
       "      <td>276729</td>\n",
       "      <td>052165615X</td>\n",
       "      <td>3</td>\n",
       "    </tr>\n",
       "    <tr>\n",
       "      <th>4</th>\n",
       "      <td>276729</td>\n",
       "      <td>0521795028</td>\n",
       "      <td>6</td>\n",
       "    </tr>\n",
       "  </tbody>\n",
       "</table>\n",
       "</div>"
      ],
      "text/plain": [
       "   User-ID        ISBN  Book-Rating\n",
       "0   276725  034545104X            0\n",
       "1   276726  0155061224            5\n",
       "2   276727  0446520802            0\n",
       "3   276729  052165615X            3\n",
       "4   276729  0521795028            6"
      ]
     },
     "execution_count": 5,
     "metadata": {},
     "output_type": "execute_result"
    }
   ],
   "source": [
    "ratings.head(5)"
   ]
  },
  {
   "cell_type": "code",
   "execution_count": 6,
   "metadata": {
    "colab": {
     "base_uri": "https://localhost:8080/"
    },
    "id": "QnC56J0iVcxW",
    "outputId": "80ad0ad6-48ae-49e3-dafb-ccd39abe6ad6"
   },
   "outputs": [
    {
     "name": "stdout",
     "output_type": "stream",
     "text": [
      "(271360, 8)\n",
      "(1149780, 3)\n",
      "(278858, 3)\n"
     ]
    }
   ],
   "source": [
    "print(books.shape)\n",
    "print(ratings.shape)\n",
    "print(users.shape)"
   ]
  },
  {
   "cell_type": "code",
   "execution_count": 7,
   "metadata": {
    "colab": {
     "base_uri": "https://localhost:8080/"
    },
    "id": "hKC9VW41VjRE",
    "outputId": "d2703e46-6f45-43f0-e6e2-b087268c7412"
   },
   "outputs": [
    {
     "data": {
      "text/plain": [
       "ISBN                   0\n",
       "Book-Title             0\n",
       "Book-Author            1\n",
       "Year-Of-Publication    0\n",
       "Publisher              2\n",
       "Image-URL-S            0\n",
       "Image-URL-M            0\n",
       "Image-URL-L            3\n",
       "dtype: int64"
      ]
     },
     "execution_count": 7,
     "metadata": {},
     "output_type": "execute_result"
    }
   ],
   "source": [
    "books.isnull().sum()"
   ]
  },
  {
   "cell_type": "code",
   "execution_count": 8,
   "metadata": {
    "colab": {
     "base_uri": "https://localhost:8080/"
    },
    "id": "EhlO6tQJVyfU",
    "outputId": "0c755b13-5389-4082-a71d-197b6d9dc546"
   },
   "outputs": [
    {
     "data": {
      "text/plain": [
       "User-ID          0\n",
       "Location         0\n",
       "Age         110762\n",
       "dtype: int64"
      ]
     },
     "execution_count": 8,
     "metadata": {},
     "output_type": "execute_result"
    }
   ],
   "source": [
    "users.isnull().sum()"
   ]
  },
  {
   "cell_type": "code",
   "execution_count": 9,
   "metadata": {
    "colab": {
     "base_uri": "https://localhost:8080/"
    },
    "id": "QsFLqKYuVuxe",
    "outputId": "2e8954b1-7fef-464f-e91f-560b9123101b"
   },
   "outputs": [
    {
     "data": {
      "text/plain": [
       "User-ID        0\n",
       "ISBN           0\n",
       "Book-Rating    0\n",
       "dtype: int64"
      ]
     },
     "execution_count": 9,
     "metadata": {},
     "output_type": "execute_result"
    }
   ],
   "source": [
    "ratings.isnull().sum()"
   ]
  },
  {
   "cell_type": "code",
   "execution_count": 10,
   "metadata": {
    "colab": {
     "base_uri": "https://localhost:8080/"
    },
    "id": "G8d9KEkzWEEW",
    "outputId": "46822b29-73f9-4dd5-8a80-c8fc5b40ed9f"
   },
   "outputs": [
    {
     "data": {
      "text/plain": [
       "0"
      ]
     },
     "execution_count": 10,
     "metadata": {},
     "output_type": "execute_result"
    }
   ],
   "source": [
    "books.duplicated().sum()"
   ]
  },
  {
   "cell_type": "code",
   "execution_count": 11,
   "metadata": {
    "colab": {
     "base_uri": "https://localhost:8080/"
    },
    "id": "lycmEaH6WMsC",
    "outputId": "3d2f47bc-45e3-4184-c9f8-faebbe19c000"
   },
   "outputs": [
    {
     "data": {
      "text/plain": [
       "0"
      ]
     },
     "execution_count": 11,
     "metadata": {},
     "output_type": "execute_result"
    }
   ],
   "source": [
    "ratings.duplicated().sum()"
   ]
  },
  {
   "cell_type": "code",
   "execution_count": 12,
   "metadata": {
    "colab": {
     "base_uri": "https://localhost:8080/"
    },
    "id": "4ac4eDw3WP-k",
    "outputId": "153d48bc-d583-437c-c1ff-70ea5f5dacb5"
   },
   "outputs": [
    {
     "data": {
      "text/plain": [
       "0"
      ]
     },
     "execution_count": 12,
     "metadata": {},
     "output_type": "execute_result"
    }
   ],
   "source": [
    "users.duplicated().sum()"
   ]
  },
  {
   "cell_type": "markdown",
   "metadata": {
    "id": "KaQzI7QVWcZ1"
   },
   "source": [
    "##collaborative filtering based recommender system"
   ]
  },
  {
   "cell_type": "code",
   "execution_count": 13,
   "metadata": {
    "id": "XLsM0KAIWSOr"
   },
   "outputs": [],
   "source": [
    "ratings_with_name = ratings.merge(books, on='ISBN')  #MERGING BOOKS AND RATINGS DATAFRAME ON COLUMN ISBN"
   ]
  },
  {
   "cell_type": "code",
   "execution_count": 14,
   "metadata": {
    "colab": {
     "base_uri": "https://localhost:8080/"
    },
    "id": "EWD2RTd_WoKv",
    "outputId": "3865babe-bdaa-4ba9-b82b-4c3e702ce884"
   },
   "outputs": [
    {
     "data": {
      "text/plain": [
       "(1031136, 10)"
      ]
     },
     "execution_count": 14,
     "metadata": {},
     "output_type": "execute_result"
    }
   ],
   "source": [
    "ratings_with_name.shape"
   ]
  },
  {
   "cell_type": "code",
   "execution_count": 15,
   "metadata": {
    "id": "X0iNJPDQXnPL"
   },
   "outputs": [],
   "source": [
    "x= ratings_with_name.groupby('User-ID').count()['Book-Rating'] > 120\n",
    "sorted_users= x[x].index"
   ]
  },
  {
   "cell_type": "code",
   "execution_count": 16,
   "metadata": {
    "colab": {
     "base_uri": "https://localhost:8080/",
     "height": 1000
    },
    "id": "DYmiyTqPoogM",
    "outputId": "3b1b7c13-4a06-46d9-d88f-e7a97d05d1b6"
   },
   "outputs": [
    {
     "data": {
      "text/html": [
       "<div>\n",
       "<style scoped>\n",
       "    .dataframe tbody tr th:only-of-type {\n",
       "        vertical-align: middle;\n",
       "    }\n",
       "\n",
       "    .dataframe tbody tr th {\n",
       "        vertical-align: top;\n",
       "    }\n",
       "\n",
       "    .dataframe thead th {\n",
       "        text-align: right;\n",
       "    }\n",
       "</style>\n",
       "<table border=\"1\" class=\"dataframe\">\n",
       "  <thead>\n",
       "    <tr style=\"text-align: right;\">\n",
       "      <th></th>\n",
       "      <th>User-ID</th>\n",
       "      <th>ISBN</th>\n",
       "      <th>Book-Rating</th>\n",
       "      <th>Book-Title</th>\n",
       "      <th>Book-Author</th>\n",
       "      <th>Year-Of-Publication</th>\n",
       "      <th>Publisher</th>\n",
       "      <th>Image-URL-S</th>\n",
       "      <th>Image-URL-M</th>\n",
       "      <th>Image-URL-L</th>\n",
       "    </tr>\n",
       "  </thead>\n",
       "  <tbody>\n",
       "    <tr>\n",
       "      <th>2</th>\n",
       "      <td>6543</td>\n",
       "      <td>034545104X</td>\n",
       "      <td>0</td>\n",
       "      <td>Flesh Tones: A Novel</td>\n",
       "      <td>M. J. Rose</td>\n",
       "      <td>2002</td>\n",
       "      <td>Ballantine Books</td>\n",
       "      <td>http://images.amazon.com/images/P/034545104X.0...</td>\n",
       "      <td>http://images.amazon.com/images/P/034545104X.0...</td>\n",
       "      <td>http://images.amazon.com/images/P/034545104X.0...</td>\n",
       "    </tr>\n",
       "    <tr>\n",
       "      <th>4</th>\n",
       "      <td>10314</td>\n",
       "      <td>034545104X</td>\n",
       "      <td>9</td>\n",
       "      <td>Flesh Tones: A Novel</td>\n",
       "      <td>M. J. Rose</td>\n",
       "      <td>2002</td>\n",
       "      <td>Ballantine Books</td>\n",
       "      <td>http://images.amazon.com/images/P/034545104X.0...</td>\n",
       "      <td>http://images.amazon.com/images/P/034545104X.0...</td>\n",
       "      <td>http://images.amazon.com/images/P/034545104X.0...</td>\n",
       "    </tr>\n",
       "    <tr>\n",
       "      <th>5</th>\n",
       "      <td>23768</td>\n",
       "      <td>034545104X</td>\n",
       "      <td>0</td>\n",
       "      <td>Flesh Tones: A Novel</td>\n",
       "      <td>M. J. Rose</td>\n",
       "      <td>2002</td>\n",
       "      <td>Ballantine Books</td>\n",
       "      <td>http://images.amazon.com/images/P/034545104X.0...</td>\n",
       "      <td>http://images.amazon.com/images/P/034545104X.0...</td>\n",
       "      <td>http://images.amazon.com/images/P/034545104X.0...</td>\n",
       "    </tr>\n",
       "    <tr>\n",
       "      <th>7</th>\n",
       "      <td>28523</td>\n",
       "      <td>034545104X</td>\n",
       "      <td>0</td>\n",
       "      <td>Flesh Tones: A Novel</td>\n",
       "      <td>M. J. Rose</td>\n",
       "      <td>2002</td>\n",
       "      <td>Ballantine Books</td>\n",
       "      <td>http://images.amazon.com/images/P/034545104X.0...</td>\n",
       "      <td>http://images.amazon.com/images/P/034545104X.0...</td>\n",
       "      <td>http://images.amazon.com/images/P/034545104X.0...</td>\n",
       "    </tr>\n",
       "    <tr>\n",
       "      <th>14</th>\n",
       "      <td>77480</td>\n",
       "      <td>034545104X</td>\n",
       "      <td>8</td>\n",
       "      <td>Flesh Tones: A Novel</td>\n",
       "      <td>M. J. Rose</td>\n",
       "      <td>2002</td>\n",
       "      <td>Ballantine Books</td>\n",
       "      <td>http://images.amazon.com/images/P/034545104X.0...</td>\n",
       "      <td>http://images.amazon.com/images/P/034545104X.0...</td>\n",
       "      <td>http://images.amazon.com/images/P/034545104X.0...</td>\n",
       "    </tr>\n",
       "    <tr>\n",
       "      <th>...</th>\n",
       "      <td>...</td>\n",
       "      <td>...</td>\n",
       "      <td>...</td>\n",
       "      <td>...</td>\n",
       "      <td>...</td>\n",
       "      <td>...</td>\n",
       "      <td>...</td>\n",
       "      <td>...</td>\n",
       "      <td>...</td>\n",
       "      <td>...</td>\n",
       "    </tr>\n",
       "    <tr>\n",
       "      <th>1031115</th>\n",
       "      <td>276680</td>\n",
       "      <td>0812881311</td>\n",
       "      <td>0</td>\n",
       "      <td>Streets of Gold</td>\n",
       "      <td>Evan Hunter</td>\n",
       "      <td>1985</td>\n",
       "      <td>Madison Books</td>\n",
       "      <td>http://images.amazon.com/images/P/0812881311.0...</td>\n",
       "      <td>http://images.amazon.com/images/P/0812881311.0...</td>\n",
       "      <td>http://images.amazon.com/images/P/0812881311.0...</td>\n",
       "    </tr>\n",
       "    <tr>\n",
       "      <th>1031116</th>\n",
       "      <td>276680</td>\n",
       "      <td>0865055041</td>\n",
       "      <td>0</td>\n",
       "      <td>Kitchen (Historic Communities (Paperback))</td>\n",
       "      <td>Bobbie Kalman</td>\n",
       "      <td>1990</td>\n",
       "      <td>Crabtree Publishing Company</td>\n",
       "      <td>http://images.amazon.com/images/P/0865055041.0...</td>\n",
       "      <td>http://images.amazon.com/images/P/0865055041.0...</td>\n",
       "      <td>http://images.amazon.com/images/P/0865055041.0...</td>\n",
       "    </tr>\n",
       "    <tr>\n",
       "      <th>1031117</th>\n",
       "      <td>276680</td>\n",
       "      <td>086505505X</td>\n",
       "      <td>0</td>\n",
       "      <td>Home Crafts (Historic Communities (Paperback))</td>\n",
       "      <td>Bobbie Kalman</td>\n",
       "      <td>1990</td>\n",
       "      <td>Crabtree Publishing Company</td>\n",
       "      <td>http://images.amazon.com/images/P/086505505X.0...</td>\n",
       "      <td>http://images.amazon.com/images/P/086505505X.0...</td>\n",
       "      <td>http://images.amazon.com/images/P/086505505X.0...</td>\n",
       "    </tr>\n",
       "    <tr>\n",
       "      <th>1031118</th>\n",
       "      <td>276680</td>\n",
       "      <td>1564407284</td>\n",
       "      <td>0</td>\n",
       "      <td>The Old Sturbridge Village Cookbook, 2nd : Aut...</td>\n",
       "      <td>Caroline Sloat</td>\n",
       "      <td>1995</td>\n",
       "      <td>Globe Pequot</td>\n",
       "      <td>http://images.amazon.com/images/P/1564407284.0...</td>\n",
       "      <td>http://images.amazon.com/images/P/1564407284.0...</td>\n",
       "      <td>http://images.amazon.com/images/P/1564407284.0...</td>\n",
       "    </tr>\n",
       "    <tr>\n",
       "      <th>1031119</th>\n",
       "      <td>276680</td>\n",
       "      <td>1582343594</td>\n",
       "      <td>0</td>\n",
       "      <td>City of Masks : A Cree Black Novel</td>\n",
       "      <td>Daniel Hecht</td>\n",
       "      <td>2004</td>\n",
       "      <td>Bloomsbury USA</td>\n",
       "      <td>http://images.amazon.com/images/P/1582343594.0...</td>\n",
       "      <td>http://images.amazon.com/images/P/1582343594.0...</td>\n",
       "      <td>http://images.amazon.com/images/P/1582343594.0...</td>\n",
       "    </tr>\n",
       "  </tbody>\n",
       "</table>\n",
       "<p>563345 rows × 10 columns</p>\n",
       "</div>"
      ],
      "text/plain": [
       "         User-ID        ISBN  Book-Rating  \\\n",
       "2           6543  034545104X            0   \n",
       "4          10314  034545104X            9   \n",
       "5          23768  034545104X            0   \n",
       "7          28523  034545104X            0   \n",
       "14         77480  034545104X            8   \n",
       "...          ...         ...          ...   \n",
       "1031115   276680  0812881311            0   \n",
       "1031116   276680  0865055041            0   \n",
       "1031117   276680  086505505X            0   \n",
       "1031118   276680  1564407284            0   \n",
       "1031119   276680  1582343594            0   \n",
       "\n",
       "                                                Book-Title     Book-Author  \\\n",
       "2                                     Flesh Tones: A Novel      M. J. Rose   \n",
       "4                                     Flesh Tones: A Novel      M. J. Rose   \n",
       "5                                     Flesh Tones: A Novel      M. J. Rose   \n",
       "7                                     Flesh Tones: A Novel      M. J. Rose   \n",
       "14                                    Flesh Tones: A Novel      M. J. Rose   \n",
       "...                                                    ...             ...   \n",
       "1031115                                    Streets of Gold     Evan Hunter   \n",
       "1031116         Kitchen (Historic Communities (Paperback))   Bobbie Kalman   \n",
       "1031117     Home Crafts (Historic Communities (Paperback))   Bobbie Kalman   \n",
       "1031118  The Old Sturbridge Village Cookbook, 2nd : Aut...  Caroline Sloat   \n",
       "1031119                 City of Masks : A Cree Black Novel    Daniel Hecht   \n",
       "\n",
       "        Year-Of-Publication                    Publisher  \\\n",
       "2                      2002             Ballantine Books   \n",
       "4                      2002             Ballantine Books   \n",
       "5                      2002             Ballantine Books   \n",
       "7                      2002             Ballantine Books   \n",
       "14                     2002             Ballantine Books   \n",
       "...                     ...                          ...   \n",
       "1031115                1985                Madison Books   \n",
       "1031116                1990  Crabtree Publishing Company   \n",
       "1031117                1990  Crabtree Publishing Company   \n",
       "1031118                1995                 Globe Pequot   \n",
       "1031119                2004               Bloomsbury USA   \n",
       "\n",
       "                                               Image-URL-S  \\\n",
       "2        http://images.amazon.com/images/P/034545104X.0...   \n",
       "4        http://images.amazon.com/images/P/034545104X.0...   \n",
       "5        http://images.amazon.com/images/P/034545104X.0...   \n",
       "7        http://images.amazon.com/images/P/034545104X.0...   \n",
       "14       http://images.amazon.com/images/P/034545104X.0...   \n",
       "...                                                    ...   \n",
       "1031115  http://images.amazon.com/images/P/0812881311.0...   \n",
       "1031116  http://images.amazon.com/images/P/0865055041.0...   \n",
       "1031117  http://images.amazon.com/images/P/086505505X.0...   \n",
       "1031118  http://images.amazon.com/images/P/1564407284.0...   \n",
       "1031119  http://images.amazon.com/images/P/1582343594.0...   \n",
       "\n",
       "                                               Image-URL-M  \\\n",
       "2        http://images.amazon.com/images/P/034545104X.0...   \n",
       "4        http://images.amazon.com/images/P/034545104X.0...   \n",
       "5        http://images.amazon.com/images/P/034545104X.0...   \n",
       "7        http://images.amazon.com/images/P/034545104X.0...   \n",
       "14       http://images.amazon.com/images/P/034545104X.0...   \n",
       "...                                                    ...   \n",
       "1031115  http://images.amazon.com/images/P/0812881311.0...   \n",
       "1031116  http://images.amazon.com/images/P/0865055041.0...   \n",
       "1031117  http://images.amazon.com/images/P/086505505X.0...   \n",
       "1031118  http://images.amazon.com/images/P/1564407284.0...   \n",
       "1031119  http://images.amazon.com/images/P/1582343594.0...   \n",
       "\n",
       "                                               Image-URL-L  \n",
       "2        http://images.amazon.com/images/P/034545104X.0...  \n",
       "4        http://images.amazon.com/images/P/034545104X.0...  \n",
       "5        http://images.amazon.com/images/P/034545104X.0...  \n",
       "7        http://images.amazon.com/images/P/034545104X.0...  \n",
       "14       http://images.amazon.com/images/P/034545104X.0...  \n",
       "...                                                    ...  \n",
       "1031115  http://images.amazon.com/images/P/0812881311.0...  \n",
       "1031116  http://images.amazon.com/images/P/0865055041.0...  \n",
       "1031117  http://images.amazon.com/images/P/086505505X.0...  \n",
       "1031118  http://images.amazon.com/images/P/1564407284.0...  \n",
       "1031119  http://images.amazon.com/images/P/1582343594.0...  \n",
       "\n",
       "[563345 rows x 10 columns]"
      ]
     },
     "execution_count": 16,
     "metadata": {},
     "output_type": "execute_result"
    }
   ],
   "source": [
    "#filtering of ratings_with_name\n",
    "filtered_rating= ratings_with_name[ratings_with_name['User-ID'].isin(sorted_users)]\n",
    "filtered_rating"
   ]
  },
  {
   "cell_type": "code",
   "execution_count": 17,
   "metadata": {
    "id": "1S1dnDviqbHK"
   },
   "outputs": [],
   "source": [
    "#sorting books\n",
    "y=filtered_rating.groupby('Book-Title').count()['Book-Rating']>=20\n",
    "famous_books = y[y].index"
   ]
  },
  {
   "cell_type": "code",
   "execution_count": 18,
   "metadata": {
    "colab": {
     "base_uri": "https://localhost:8080/",
     "height": 708
    },
    "id": "xSNEVpsVsKis",
    "outputId": "e8704cd4-3c3e-4ec7-dc55-a80dfab97eff"
   },
   "outputs": [
    {
     "data": {
      "text/html": [
       "<div>\n",
       "<style scoped>\n",
       "    .dataframe tbody tr th:only-of-type {\n",
       "        vertical-align: middle;\n",
       "    }\n",
       "\n",
       "    .dataframe tbody tr th {\n",
       "        vertical-align: top;\n",
       "    }\n",
       "\n",
       "    .dataframe thead th {\n",
       "        text-align: right;\n",
       "    }\n",
       "</style>\n",
       "<table border=\"1\" class=\"dataframe\">\n",
       "  <thead>\n",
       "    <tr style=\"text-align: right;\">\n",
       "      <th></th>\n",
       "      <th>User-ID</th>\n",
       "      <th>ISBN</th>\n",
       "      <th>Book-Rating</th>\n",
       "      <th>Book-Title</th>\n",
       "      <th>Book-Author</th>\n",
       "      <th>Year-Of-Publication</th>\n",
       "      <th>Publisher</th>\n",
       "      <th>Image-URL-S</th>\n",
       "      <th>Image-URL-M</th>\n",
       "      <th>Image-URL-L</th>\n",
       "    </tr>\n",
       "  </thead>\n",
       "  <tbody>\n",
       "    <tr>\n",
       "      <th>2</th>\n",
       "      <td>6543</td>\n",
       "      <td>034545104X</td>\n",
       "      <td>0</td>\n",
       "      <td>Flesh Tones: A Novel</td>\n",
       "      <td>M. J. Rose</td>\n",
       "      <td>2002</td>\n",
       "      <td>Ballantine Books</td>\n",
       "      <td>http://images.amazon.com/images/P/034545104X.0...</td>\n",
       "      <td>http://images.amazon.com/images/P/034545104X.0...</td>\n",
       "      <td>http://images.amazon.com/images/P/034545104X.0...</td>\n",
       "    </tr>\n",
       "    <tr>\n",
       "      <th>4</th>\n",
       "      <td>10314</td>\n",
       "      <td>034545104X</td>\n",
       "      <td>9</td>\n",
       "      <td>Flesh Tones: A Novel</td>\n",
       "      <td>M. J. Rose</td>\n",
       "      <td>2002</td>\n",
       "      <td>Ballantine Books</td>\n",
       "      <td>http://images.amazon.com/images/P/034545104X.0...</td>\n",
       "      <td>http://images.amazon.com/images/P/034545104X.0...</td>\n",
       "      <td>http://images.amazon.com/images/P/034545104X.0...</td>\n",
       "    </tr>\n",
       "    <tr>\n",
       "      <th>5</th>\n",
       "      <td>23768</td>\n",
       "      <td>034545104X</td>\n",
       "      <td>0</td>\n",
       "      <td>Flesh Tones: A Novel</td>\n",
       "      <td>M. J. Rose</td>\n",
       "      <td>2002</td>\n",
       "      <td>Ballantine Books</td>\n",
       "      <td>http://images.amazon.com/images/P/034545104X.0...</td>\n",
       "      <td>http://images.amazon.com/images/P/034545104X.0...</td>\n",
       "      <td>http://images.amazon.com/images/P/034545104X.0...</td>\n",
       "    </tr>\n",
       "    <tr>\n",
       "      <th>7</th>\n",
       "      <td>28523</td>\n",
       "      <td>034545104X</td>\n",
       "      <td>0</td>\n",
       "      <td>Flesh Tones: A Novel</td>\n",
       "      <td>M. J. Rose</td>\n",
       "      <td>2002</td>\n",
       "      <td>Ballantine Books</td>\n",
       "      <td>http://images.amazon.com/images/P/034545104X.0...</td>\n",
       "      <td>http://images.amazon.com/images/P/034545104X.0...</td>\n",
       "      <td>http://images.amazon.com/images/P/034545104X.0...</td>\n",
       "    </tr>\n",
       "    <tr>\n",
       "      <th>14</th>\n",
       "      <td>77480</td>\n",
       "      <td>034545104X</td>\n",
       "      <td>8</td>\n",
       "      <td>Flesh Tones: A Novel</td>\n",
       "      <td>M. J. Rose</td>\n",
       "      <td>2002</td>\n",
       "      <td>Ballantine Books</td>\n",
       "      <td>http://images.amazon.com/images/P/034545104X.0...</td>\n",
       "      <td>http://images.amazon.com/images/P/034545104X.0...</td>\n",
       "      <td>http://images.amazon.com/images/P/034545104X.0...</td>\n",
       "    </tr>\n",
       "    <tr>\n",
       "      <th>...</th>\n",
       "      <td>...</td>\n",
       "      <td>...</td>\n",
       "      <td>...</td>\n",
       "      <td>...</td>\n",
       "      <td>...</td>\n",
       "      <td>...</td>\n",
       "      <td>...</td>\n",
       "      <td>...</td>\n",
       "      <td>...</td>\n",
       "      <td>...</td>\n",
       "    </tr>\n",
       "    <tr>\n",
       "      <th>1029947</th>\n",
       "      <td>274061</td>\n",
       "      <td>1551663147</td>\n",
       "      <td>10</td>\n",
       "      <td>Fever</td>\n",
       "      <td>Elizabeth Lowell</td>\n",
       "      <td>1997</td>\n",
       "      <td>Mira</td>\n",
       "      <td>http://images.amazon.com/images/P/1551663147.0...</td>\n",
       "      <td>http://images.amazon.com/images/P/1551663147.0...</td>\n",
       "      <td>http://images.amazon.com/images/P/1551663147.0...</td>\n",
       "    </tr>\n",
       "    <tr>\n",
       "      <th>1030065</th>\n",
       "      <td>274301</td>\n",
       "      <td>0575042729</td>\n",
       "      <td>0</td>\n",
       "      <td>Possession</td>\n",
       "      <td>Peter James</td>\n",
       "      <td>1988</td>\n",
       "      <td>V. Gollancz</td>\n",
       "      <td>http://images.amazon.com/images/P/0575042729.0...</td>\n",
       "      <td>http://images.amazon.com/images/P/0575042729.0...</td>\n",
       "      <td>http://images.amazon.com/images/P/0575042729.0...</td>\n",
       "    </tr>\n",
       "    <tr>\n",
       "      <th>1030363</th>\n",
       "      <td>274808</td>\n",
       "      <td>0449701913</td>\n",
       "      <td>0</td>\n",
       "      <td>Homecoming</td>\n",
       "      <td>Cynthia Voigt</td>\n",
       "      <td>1983</td>\n",
       "      <td>Fawcett Books</td>\n",
       "      <td>http://images.amazon.com/images/P/0449701913.0...</td>\n",
       "      <td>http://images.amazon.com/images/P/0449701913.0...</td>\n",
       "      <td>http://images.amazon.com/images/P/0449701913.0...</td>\n",
       "    </tr>\n",
       "    <tr>\n",
       "      <th>1030824</th>\n",
       "      <td>275970</td>\n",
       "      <td>0865714215</td>\n",
       "      <td>0</td>\n",
       "      <td>Stormy Weather</td>\n",
       "      <td>Guy Dauncey</td>\n",
       "      <td>2001</td>\n",
       "      <td>New Society Publishers</td>\n",
       "      <td>http://images.amazon.com/images/P/0865714215.0...</td>\n",
       "      <td>http://images.amazon.com/images/P/0865714215.0...</td>\n",
       "      <td>http://images.amazon.com/images/P/0865714215.0...</td>\n",
       "    </tr>\n",
       "    <tr>\n",
       "      <th>1030868</th>\n",
       "      <td>275970</td>\n",
       "      <td>1586210661</td>\n",
       "      <td>9</td>\n",
       "      <td>Me Talk Pretty One Day</td>\n",
       "      <td>David Sedaris</td>\n",
       "      <td>2001</td>\n",
       "      <td>Time Warner Audio Major</td>\n",
       "      <td>http://images.amazon.com/images/P/1586210661.0...</td>\n",
       "      <td>http://images.amazon.com/images/P/1586210661.0...</td>\n",
       "      <td>http://images.amazon.com/images/P/1586210661.0...</td>\n",
       "    </tr>\n",
       "  </tbody>\n",
       "</table>\n",
       "<p>171519 rows × 10 columns</p>\n",
       "</div>"
      ],
      "text/plain": [
       "         User-ID        ISBN  Book-Rating              Book-Title  \\\n",
       "2           6543  034545104X            0    Flesh Tones: A Novel   \n",
       "4          10314  034545104X            9    Flesh Tones: A Novel   \n",
       "5          23768  034545104X            0    Flesh Tones: A Novel   \n",
       "7          28523  034545104X            0    Flesh Tones: A Novel   \n",
       "14         77480  034545104X            8    Flesh Tones: A Novel   \n",
       "...          ...         ...          ...                     ...   \n",
       "1029947   274061  1551663147           10                   Fever   \n",
       "1030065   274301  0575042729            0              Possession   \n",
       "1030363   274808  0449701913            0              Homecoming   \n",
       "1030824   275970  0865714215            0          Stormy Weather   \n",
       "1030868   275970  1586210661            9  Me Talk Pretty One Day   \n",
       "\n",
       "              Book-Author Year-Of-Publication                Publisher  \\\n",
       "2              M. J. Rose                2002         Ballantine Books   \n",
       "4              M. J. Rose                2002         Ballantine Books   \n",
       "5              M. J. Rose                2002         Ballantine Books   \n",
       "7              M. J. Rose                2002         Ballantine Books   \n",
       "14             M. J. Rose                2002         Ballantine Books   \n",
       "...                   ...                 ...                      ...   \n",
       "1029947  Elizabeth Lowell                1997                     Mira   \n",
       "1030065       Peter James                1988              V. Gollancz   \n",
       "1030363     Cynthia Voigt                1983            Fawcett Books   \n",
       "1030824       Guy Dauncey                2001   New Society Publishers   \n",
       "1030868     David Sedaris                2001  Time Warner Audio Major   \n",
       "\n",
       "                                               Image-URL-S  \\\n",
       "2        http://images.amazon.com/images/P/034545104X.0...   \n",
       "4        http://images.amazon.com/images/P/034545104X.0...   \n",
       "5        http://images.amazon.com/images/P/034545104X.0...   \n",
       "7        http://images.amazon.com/images/P/034545104X.0...   \n",
       "14       http://images.amazon.com/images/P/034545104X.0...   \n",
       "...                                                    ...   \n",
       "1029947  http://images.amazon.com/images/P/1551663147.0...   \n",
       "1030065  http://images.amazon.com/images/P/0575042729.0...   \n",
       "1030363  http://images.amazon.com/images/P/0449701913.0...   \n",
       "1030824  http://images.amazon.com/images/P/0865714215.0...   \n",
       "1030868  http://images.amazon.com/images/P/1586210661.0...   \n",
       "\n",
       "                                               Image-URL-M  \\\n",
       "2        http://images.amazon.com/images/P/034545104X.0...   \n",
       "4        http://images.amazon.com/images/P/034545104X.0...   \n",
       "5        http://images.amazon.com/images/P/034545104X.0...   \n",
       "7        http://images.amazon.com/images/P/034545104X.0...   \n",
       "14       http://images.amazon.com/images/P/034545104X.0...   \n",
       "...                                                    ...   \n",
       "1029947  http://images.amazon.com/images/P/1551663147.0...   \n",
       "1030065  http://images.amazon.com/images/P/0575042729.0...   \n",
       "1030363  http://images.amazon.com/images/P/0449701913.0...   \n",
       "1030824  http://images.amazon.com/images/P/0865714215.0...   \n",
       "1030868  http://images.amazon.com/images/P/1586210661.0...   \n",
       "\n",
       "                                               Image-URL-L  \n",
       "2        http://images.amazon.com/images/P/034545104X.0...  \n",
       "4        http://images.amazon.com/images/P/034545104X.0...  \n",
       "5        http://images.amazon.com/images/P/034545104X.0...  \n",
       "7        http://images.amazon.com/images/P/034545104X.0...  \n",
       "14       http://images.amazon.com/images/P/034545104X.0...  \n",
       "...                                                    ...  \n",
       "1029947  http://images.amazon.com/images/P/1551663147.0...  \n",
       "1030065  http://images.amazon.com/images/P/0575042729.0...  \n",
       "1030363  http://images.amazon.com/images/P/0449701913.0...  \n",
       "1030824  http://images.amazon.com/images/P/0865714215.0...  \n",
       "1030868  http://images.amazon.com/images/P/1586210661.0...  \n",
       "\n",
       "[171519 rows x 10 columns]"
      ]
     },
     "execution_count": 18,
     "metadata": {},
     "output_type": "execute_result"
    }
   ],
   "source": [
    "#filtering of famous_books\n",
    "final_ratings= filtered_rating[filtered_rating['Book-Title'].isin(famous_books)]\n",
    "final_ratings.drop_duplicates()"
   ]
  },
  {
   "cell_type": "code",
   "execution_count": 19,
   "metadata": {
    "id": "gbsdO5nIuQtZ"
   },
   "outputs": [],
   "source": [
    "#using pivot table to get data in desired format\n",
    "pt= final_ratings.pivot_table(index='Book-Title', columns='User-ID', values='Book-Rating')"
   ]
  },
  {
   "cell_type": "code",
   "execution_count": 20,
   "metadata": {
    "colab": {
     "base_uri": "https://localhost:8080/",
     "height": 609
    },
    "id": "fzccFgEFz9Vd",
    "outputId": "8731fa3f-3d49-45dd-a0b7-19c750648011"
   },
   "outputs": [
    {
     "data": {
      "text/html": [
       "<div>\n",
       "<style scoped>\n",
       "    .dataframe tbody tr th:only-of-type {\n",
       "        vertical-align: middle;\n",
       "    }\n",
       "\n",
       "    .dataframe tbody tr th {\n",
       "        vertical-align: top;\n",
       "    }\n",
       "\n",
       "    .dataframe thead th {\n",
       "        text-align: right;\n",
       "    }\n",
       "</style>\n",
       "<table border=\"1\" class=\"dataframe\">\n",
       "  <thead>\n",
       "    <tr style=\"text-align: right;\">\n",
       "      <th>User-ID</th>\n",
       "      <th>254</th>\n",
       "      <th>507</th>\n",
       "      <th>882</th>\n",
       "      <th>1424</th>\n",
       "      <th>1733</th>\n",
       "      <th>1903</th>\n",
       "      <th>2033</th>\n",
       "      <th>2110</th>\n",
       "      <th>2276</th>\n",
       "      <th>2358</th>\n",
       "      <th>...</th>\n",
       "      <th>274808</th>\n",
       "      <th>275020</th>\n",
       "      <th>275970</th>\n",
       "      <th>276680</th>\n",
       "      <th>277427</th>\n",
       "      <th>277478</th>\n",
       "      <th>277639</th>\n",
       "      <th>278137</th>\n",
       "      <th>278188</th>\n",
       "      <th>278418</th>\n",
       "    </tr>\n",
       "    <tr>\n",
       "      <th>Book-Title</th>\n",
       "      <th></th>\n",
       "      <th></th>\n",
       "      <th></th>\n",
       "      <th></th>\n",
       "      <th></th>\n",
       "      <th></th>\n",
       "      <th></th>\n",
       "      <th></th>\n",
       "      <th></th>\n",
       "      <th></th>\n",
       "      <th></th>\n",
       "      <th></th>\n",
       "      <th></th>\n",
       "      <th></th>\n",
       "      <th></th>\n",
       "      <th></th>\n",
       "      <th></th>\n",
       "      <th></th>\n",
       "      <th></th>\n",
       "      <th></th>\n",
       "      <th></th>\n",
       "    </tr>\n",
       "  </thead>\n",
       "  <tbody>\n",
       "    <tr>\n",
       "      <th>'Salem's Lot</th>\n",
       "      <td>0.0</td>\n",
       "      <td>0.0</td>\n",
       "      <td>0.0</td>\n",
       "      <td>0.0</td>\n",
       "      <td>0.0</td>\n",
       "      <td>0.0</td>\n",
       "      <td>0.0</td>\n",
       "      <td>0.0</td>\n",
       "      <td>0.0</td>\n",
       "      <td>0.0</td>\n",
       "      <td>...</td>\n",
       "      <td>0.0</td>\n",
       "      <td>0.0</td>\n",
       "      <td>0.0</td>\n",
       "      <td>0.0</td>\n",
       "      <td>0.0</td>\n",
       "      <td>0.0</td>\n",
       "      <td>0.0</td>\n",
       "      <td>0.0</td>\n",
       "      <td>0.0</td>\n",
       "      <td>0.0</td>\n",
       "    </tr>\n",
       "    <tr>\n",
       "      <th>10 Lb. Penalty</th>\n",
       "      <td>0.0</td>\n",
       "      <td>0.0</td>\n",
       "      <td>0.0</td>\n",
       "      <td>0.0</td>\n",
       "      <td>0.0</td>\n",
       "      <td>0.0</td>\n",
       "      <td>0.0</td>\n",
       "      <td>0.0</td>\n",
       "      <td>0.0</td>\n",
       "      <td>0.0</td>\n",
       "      <td>...</td>\n",
       "      <td>0.0</td>\n",
       "      <td>0.0</td>\n",
       "      <td>0.0</td>\n",
       "      <td>0.0</td>\n",
       "      <td>0.0</td>\n",
       "      <td>0.0</td>\n",
       "      <td>0.0</td>\n",
       "      <td>0.0</td>\n",
       "      <td>0.0</td>\n",
       "      <td>0.0</td>\n",
       "    </tr>\n",
       "    <tr>\n",
       "      <th>101 Dalmatians</th>\n",
       "      <td>0.0</td>\n",
       "      <td>0.0</td>\n",
       "      <td>0.0</td>\n",
       "      <td>0.0</td>\n",
       "      <td>0.0</td>\n",
       "      <td>0.0</td>\n",
       "      <td>0.0</td>\n",
       "      <td>0.0</td>\n",
       "      <td>0.0</td>\n",
       "      <td>0.0</td>\n",
       "      <td>...</td>\n",
       "      <td>0.0</td>\n",
       "      <td>0.0</td>\n",
       "      <td>0.0</td>\n",
       "      <td>0.0</td>\n",
       "      <td>0.0</td>\n",
       "      <td>0.0</td>\n",
       "      <td>0.0</td>\n",
       "      <td>0.0</td>\n",
       "      <td>0.0</td>\n",
       "      <td>0.0</td>\n",
       "    </tr>\n",
       "    <tr>\n",
       "      <th>16 Lighthouse Road</th>\n",
       "      <td>0.0</td>\n",
       "      <td>0.0</td>\n",
       "      <td>0.0</td>\n",
       "      <td>0.0</td>\n",
       "      <td>0.0</td>\n",
       "      <td>0.0</td>\n",
       "      <td>0.0</td>\n",
       "      <td>0.0</td>\n",
       "      <td>0.0</td>\n",
       "      <td>0.0</td>\n",
       "      <td>...</td>\n",
       "      <td>0.0</td>\n",
       "      <td>0.0</td>\n",
       "      <td>0.0</td>\n",
       "      <td>0.0</td>\n",
       "      <td>0.0</td>\n",
       "      <td>0.0</td>\n",
       "      <td>0.0</td>\n",
       "      <td>0.0</td>\n",
       "      <td>0.0</td>\n",
       "      <td>0.0</td>\n",
       "    </tr>\n",
       "    <tr>\n",
       "      <th>1984</th>\n",
       "      <td>9.0</td>\n",
       "      <td>0.0</td>\n",
       "      <td>0.0</td>\n",
       "      <td>0.0</td>\n",
       "      <td>0.0</td>\n",
       "      <td>0.0</td>\n",
       "      <td>0.0</td>\n",
       "      <td>0.0</td>\n",
       "      <td>0.0</td>\n",
       "      <td>0.0</td>\n",
       "      <td>...</td>\n",
       "      <td>0.0</td>\n",
       "      <td>0.0</td>\n",
       "      <td>0.0</td>\n",
       "      <td>0.0</td>\n",
       "      <td>0.0</td>\n",
       "      <td>0.0</td>\n",
       "      <td>0.0</td>\n",
       "      <td>0.0</td>\n",
       "      <td>0.0</td>\n",
       "      <td>0.0</td>\n",
       "    </tr>\n",
       "    <tr>\n",
       "      <th>...</th>\n",
       "      <td>...</td>\n",
       "      <td>...</td>\n",
       "      <td>...</td>\n",
       "      <td>...</td>\n",
       "      <td>...</td>\n",
       "      <td>...</td>\n",
       "      <td>...</td>\n",
       "      <td>...</td>\n",
       "      <td>...</td>\n",
       "      <td>...</td>\n",
       "      <td>...</td>\n",
       "      <td>...</td>\n",
       "      <td>...</td>\n",
       "      <td>...</td>\n",
       "      <td>...</td>\n",
       "      <td>...</td>\n",
       "      <td>...</td>\n",
       "      <td>...</td>\n",
       "      <td>...</td>\n",
       "      <td>...</td>\n",
       "      <td>...</td>\n",
       "    </tr>\n",
       "    <tr>\n",
       "      <th>Zoya</th>\n",
       "      <td>0.0</td>\n",
       "      <td>0.0</td>\n",
       "      <td>0.0</td>\n",
       "      <td>0.0</td>\n",
       "      <td>0.0</td>\n",
       "      <td>0.0</td>\n",
       "      <td>0.0</td>\n",
       "      <td>0.0</td>\n",
       "      <td>0.0</td>\n",
       "      <td>0.0</td>\n",
       "      <td>...</td>\n",
       "      <td>0.0</td>\n",
       "      <td>0.0</td>\n",
       "      <td>0.0</td>\n",
       "      <td>0.0</td>\n",
       "      <td>0.0</td>\n",
       "      <td>0.0</td>\n",
       "      <td>0.0</td>\n",
       "      <td>0.0</td>\n",
       "      <td>0.0</td>\n",
       "      <td>0.0</td>\n",
       "    </tr>\n",
       "    <tr>\n",
       "      <th>\\O\\\" Is for Outlaw\"</th>\n",
       "      <td>0.0</td>\n",
       "      <td>0.0</td>\n",
       "      <td>0.0</td>\n",
       "      <td>0.0</td>\n",
       "      <td>0.0</td>\n",
       "      <td>0.0</td>\n",
       "      <td>0.0</td>\n",
       "      <td>0.0</td>\n",
       "      <td>0.0</td>\n",
       "      <td>0.0</td>\n",
       "      <td>...</td>\n",
       "      <td>0.0</td>\n",
       "      <td>0.0</td>\n",
       "      <td>0.0</td>\n",
       "      <td>0.0</td>\n",
       "      <td>0.0</td>\n",
       "      <td>0.0</td>\n",
       "      <td>0.0</td>\n",
       "      <td>0.0</td>\n",
       "      <td>0.0</td>\n",
       "      <td>0.0</td>\n",
       "    </tr>\n",
       "    <tr>\n",
       "      <th>\\Surely You're Joking, Mr. Feynman!\\\": Adventures of a Curious Character\"</th>\n",
       "      <td>0.0</td>\n",
       "      <td>0.0</td>\n",
       "      <td>0.0</td>\n",
       "      <td>0.0</td>\n",
       "      <td>0.0</td>\n",
       "      <td>0.0</td>\n",
       "      <td>0.0</td>\n",
       "      <td>0.0</td>\n",
       "      <td>0.0</td>\n",
       "      <td>0.0</td>\n",
       "      <td>...</td>\n",
       "      <td>0.0</td>\n",
       "      <td>0.0</td>\n",
       "      <td>0.0</td>\n",
       "      <td>0.0</td>\n",
       "      <td>0.0</td>\n",
       "      <td>0.0</td>\n",
       "      <td>0.0</td>\n",
       "      <td>0.0</td>\n",
       "      <td>0.0</td>\n",
       "      <td>0.0</td>\n",
       "    </tr>\n",
       "    <tr>\n",
       "      <th>e</th>\n",
       "      <td>0.0</td>\n",
       "      <td>0.0</td>\n",
       "      <td>0.0</td>\n",
       "      <td>0.0</td>\n",
       "      <td>0.0</td>\n",
       "      <td>0.0</td>\n",
       "      <td>0.0</td>\n",
       "      <td>0.0</td>\n",
       "      <td>0.0</td>\n",
       "      <td>0.0</td>\n",
       "      <td>...</td>\n",
       "      <td>0.0</td>\n",
       "      <td>0.0</td>\n",
       "      <td>0.0</td>\n",
       "      <td>0.0</td>\n",
       "      <td>0.0</td>\n",
       "      <td>0.0</td>\n",
       "      <td>0.0</td>\n",
       "      <td>0.0</td>\n",
       "      <td>0.0</td>\n",
       "      <td>0.0</td>\n",
       "    </tr>\n",
       "    <tr>\n",
       "      <th>stardust</th>\n",
       "      <td>0.0</td>\n",
       "      <td>0.0</td>\n",
       "      <td>0.0</td>\n",
       "      <td>0.0</td>\n",
       "      <td>0.0</td>\n",
       "      <td>0.0</td>\n",
       "      <td>0.0</td>\n",
       "      <td>0.0</td>\n",
       "      <td>0.0</td>\n",
       "      <td>0.0</td>\n",
       "      <td>...</td>\n",
       "      <td>0.0</td>\n",
       "      <td>0.0</td>\n",
       "      <td>0.0</td>\n",
       "      <td>0.0</td>\n",
       "      <td>0.0</td>\n",
       "      <td>0.0</td>\n",
       "      <td>0.0</td>\n",
       "      <td>0.0</td>\n",
       "      <td>0.0</td>\n",
       "      <td>0.0</td>\n",
       "    </tr>\n",
       "  </tbody>\n",
       "</table>\n",
       "<p>3825 rows × 1385 columns</p>\n",
       "</div>"
      ],
      "text/plain": [
       "User-ID                                             254     507     882     \\\n",
       "Book-Title                                                                   \n",
       "'Salem's Lot                                           0.0     0.0     0.0   \n",
       "10 Lb. Penalty                                         0.0     0.0     0.0   \n",
       "101 Dalmatians                                         0.0     0.0     0.0   \n",
       "16 Lighthouse Road                                     0.0     0.0     0.0   \n",
       "1984                                                   9.0     0.0     0.0   \n",
       "...                                                    ...     ...     ...   \n",
       "Zoya                                                   0.0     0.0     0.0   \n",
       "\\O\\\" Is for Outlaw\"                                    0.0     0.0     0.0   \n",
       "\\Surely You're Joking, Mr. Feynman!\\\": Adventur...     0.0     0.0     0.0   \n",
       "e                                                      0.0     0.0     0.0   \n",
       "stardust                                               0.0     0.0     0.0   \n",
       "\n",
       "User-ID                                             1424    1733    1903    \\\n",
       "Book-Title                                                                   \n",
       "'Salem's Lot                                           0.0     0.0     0.0   \n",
       "10 Lb. Penalty                                         0.0     0.0     0.0   \n",
       "101 Dalmatians                                         0.0     0.0     0.0   \n",
       "16 Lighthouse Road                                     0.0     0.0     0.0   \n",
       "1984                                                   0.0     0.0     0.0   \n",
       "...                                                    ...     ...     ...   \n",
       "Zoya                                                   0.0     0.0     0.0   \n",
       "\\O\\\" Is for Outlaw\"                                    0.0     0.0     0.0   \n",
       "\\Surely You're Joking, Mr. Feynman!\\\": Adventur...     0.0     0.0     0.0   \n",
       "e                                                      0.0     0.0     0.0   \n",
       "stardust                                               0.0     0.0     0.0   \n",
       "\n",
       "User-ID                                             2033    2110    2276    \\\n",
       "Book-Title                                                                   \n",
       "'Salem's Lot                                           0.0     0.0     0.0   \n",
       "10 Lb. Penalty                                         0.0     0.0     0.0   \n",
       "101 Dalmatians                                         0.0     0.0     0.0   \n",
       "16 Lighthouse Road                                     0.0     0.0     0.0   \n",
       "1984                                                   0.0     0.0     0.0   \n",
       "...                                                    ...     ...     ...   \n",
       "Zoya                                                   0.0     0.0     0.0   \n",
       "\\O\\\" Is for Outlaw\"                                    0.0     0.0     0.0   \n",
       "\\Surely You're Joking, Mr. Feynman!\\\": Adventur...     0.0     0.0     0.0   \n",
       "e                                                      0.0     0.0     0.0   \n",
       "stardust                                               0.0     0.0     0.0   \n",
       "\n",
       "User-ID                                             2358    ...  274808  \\\n",
       "Book-Title                                                  ...           \n",
       "'Salem's Lot                                           0.0  ...     0.0   \n",
       "10 Lb. Penalty                                         0.0  ...     0.0   \n",
       "101 Dalmatians                                         0.0  ...     0.0   \n",
       "16 Lighthouse Road                                     0.0  ...     0.0   \n",
       "1984                                                   0.0  ...     0.0   \n",
       "...                                                    ...  ...     ...   \n",
       "Zoya                                                   0.0  ...     0.0   \n",
       "\\O\\\" Is for Outlaw\"                                    0.0  ...     0.0   \n",
       "\\Surely You're Joking, Mr. Feynman!\\\": Adventur...     0.0  ...     0.0   \n",
       "e                                                      0.0  ...     0.0   \n",
       "stardust                                               0.0  ...     0.0   \n",
       "\n",
       "User-ID                                             275020  275970  276680  \\\n",
       "Book-Title                                                                   \n",
       "'Salem's Lot                                           0.0     0.0     0.0   \n",
       "10 Lb. Penalty                                         0.0     0.0     0.0   \n",
       "101 Dalmatians                                         0.0     0.0     0.0   \n",
       "16 Lighthouse Road                                     0.0     0.0     0.0   \n",
       "1984                                                   0.0     0.0     0.0   \n",
       "...                                                    ...     ...     ...   \n",
       "Zoya                                                   0.0     0.0     0.0   \n",
       "\\O\\\" Is for Outlaw\"                                    0.0     0.0     0.0   \n",
       "\\Surely You're Joking, Mr. Feynman!\\\": Adventur...     0.0     0.0     0.0   \n",
       "e                                                      0.0     0.0     0.0   \n",
       "stardust                                               0.0     0.0     0.0   \n",
       "\n",
       "User-ID                                             277427  277478  277639  \\\n",
       "Book-Title                                                                   \n",
       "'Salem's Lot                                           0.0     0.0     0.0   \n",
       "10 Lb. Penalty                                         0.0     0.0     0.0   \n",
       "101 Dalmatians                                         0.0     0.0     0.0   \n",
       "16 Lighthouse Road                                     0.0     0.0     0.0   \n",
       "1984                                                   0.0     0.0     0.0   \n",
       "...                                                    ...     ...     ...   \n",
       "Zoya                                                   0.0     0.0     0.0   \n",
       "\\O\\\" Is for Outlaw\"                                    0.0     0.0     0.0   \n",
       "\\Surely You're Joking, Mr. Feynman!\\\": Adventur...     0.0     0.0     0.0   \n",
       "e                                                      0.0     0.0     0.0   \n",
       "stardust                                               0.0     0.0     0.0   \n",
       "\n",
       "User-ID                                             278137  278188  278418  \n",
       "Book-Title                                                                  \n",
       "'Salem's Lot                                           0.0     0.0     0.0  \n",
       "10 Lb. Penalty                                         0.0     0.0     0.0  \n",
       "101 Dalmatians                                         0.0     0.0     0.0  \n",
       "16 Lighthouse Road                                     0.0     0.0     0.0  \n",
       "1984                                                   0.0     0.0     0.0  \n",
       "...                                                    ...     ...     ...  \n",
       "Zoya                                                   0.0     0.0     0.0  \n",
       "\\O\\\" Is for Outlaw\"                                    0.0     0.0     0.0  \n",
       "\\Surely You're Joking, Mr. Feynman!\\\": Adventur...     0.0     0.0     0.0  \n",
       "e                                                      0.0     0.0     0.0  \n",
       "stardust                                               0.0     0.0     0.0  \n",
       "\n",
       "[3825 rows x 1385 columns]"
      ]
     },
     "execution_count": 20,
     "metadata": {},
     "output_type": "execute_result"
    }
   ],
   "source": [
    "pt.fillna(0,inplace=True)\n",
    "pt"
   ]
  },
  {
   "cell_type": "code",
   "execution_count": 21,
   "metadata": {
    "id": "Vvesgtj620nP"
   },
   "outputs": [],
   "source": [
    "#similarity:\n",
    "from sklearn.metrics.pairwise import cosine_similarity"
   ]
  },
  {
   "cell_type": "code",
   "execution_count": 22,
   "metadata": {
    "colab": {
     "base_uri": "https://localhost:8080/"
    },
    "id": "PLA9gcFY6t-1",
    "outputId": "bc9aa489-566e-458c-82be-f5cd95317a9c"
   },
   "outputs": [
    {
     "data": {
      "text/plain": [
       "array([[1.        , 0.        , 0.        , ..., 0.        , 0.        ,\n",
       "        0.        ],\n",
       "       [0.        , 1.        , 0.        , ..., 0.        , 0.        ,\n",
       "        0.        ],\n",
       "       [0.        , 0.        , 1.        , ..., 0.        , 0.        ,\n",
       "        0.        ],\n",
       "       ...,\n",
       "       [0.        , 0.        , 0.        , ..., 1.        , 0.        ,\n",
       "        0.20799382],\n",
       "       [0.        , 0.        , 0.        , ..., 0.        , 1.        ,\n",
       "        0.        ],\n",
       "       [0.        , 0.        , 0.        , ..., 0.20799382, 0.        ,\n",
       "        1.        ]])"
      ]
     },
     "execution_count": 22,
     "metadata": {},
     "output_type": "execute_result"
    }
   ],
   "source": [
    "similarity_scores = cosine_similarity(pt)\n",
    "similarity_scores"
   ]
  },
  {
   "cell_type": "code",
   "execution_count": 23,
   "metadata": {
    "colab": {
     "base_uri": "https://localhost:8080/"
    },
    "id": "6Src9vpQ63dZ",
    "outputId": "f32e3306-6728-476f-ae60-8b4b1da2ff5e"
   },
   "outputs": [
    {
     "data": {
      "text/plain": [
       "(3825, 3825)"
      ]
     },
     "execution_count": 23,
     "metadata": {},
     "output_type": "execute_result"
    }
   ],
   "source": [
    "similarity_scores.shape"
   ]
  },
  {
   "cell_type": "code",
   "execution_count": 24,
   "metadata": {
    "id": "nePTczGL7VTl"
   },
   "outputs": [],
   "source": [
    "#Making recommend function which will recommend books when poviding input of a book\n",
    "def recommend(book_name):\n",
    "  #index_fetch\n",
    "  index=np.where(pt.index==book_name)[0][0]\n",
    "  similar_items=sorted(list(enumerate(similarity_scores[index])),key=lambda x:x[1],reverse=True)[1:6]\n",
    "\n",
    "  data=[]\n",
    "  for i in similar_items:\n",
    "    item= []\n",
    "    temp_df = books[books['Book-Title'] == pt.index[i[0]]]\n",
    "    item.extend(list(temp_df.drop_duplicates('Book-Title')['Book-Title'].values))\n",
    "    item.extend(list(temp_df.drop_duplicates('Book-Title')['Book-Author'].values))\n",
    "    item.extend(list(temp_df.drop_duplicates('Book-Title')['Image-URL-M'].values))\n",
    "        \n",
    "    data.append(item)\n",
    "    \n",
    "  return data"
   ]
  },
  {
   "cell_type": "code",
   "execution_count": 25,
   "metadata": {
    "colab": {
     "base_uri": "https://localhost:8080/"
    },
    "id": "IIhPFFKD8Ds8",
    "outputId": "4f47dd2d-0685-4d3c-ac4c-11ca6a90c5c1"
   },
   "outputs": [
    {
     "data": {
      "text/plain": [
       "[['Harry Potter and the Prisoner of Azkaban (Book 3)',\n",
       "  'J. K. Rowling',\n",
       "  'http://images.amazon.com/images/P/0439136350.01.MZZZZZZZ.jpg'],\n",
       " ['Harry Potter and the Goblet of Fire (Book 4)',\n",
       "  'J. K. Rowling',\n",
       "  'http://images.amazon.com/images/P/0439139597.01.MZZZZZZZ.jpg'],\n",
       " [\"Harry Potter and the Sorcerer's Stone (Book 1)\",\n",
       "  'J. K. Rowling',\n",
       "  'http://images.amazon.com/images/P/0590353403.01.MZZZZZZZ.jpg'],\n",
       " [\"Harry Potter and the Sorcerer's Stone (Harry Potter (Paperback))\",\n",
       "  'J. K. Rowling',\n",
       "  'http://images.amazon.com/images/P/059035342X.01.MZZZZZZZ.jpg'],\n",
       " ['Harry Potter and the Order of the Phoenix (Book 5)',\n",
       "  'J. K. Rowling',\n",
       "  'http://images.amazon.com/images/P/043935806X.01.MZZZZZZZ.jpg']]"
      ]
     },
     "execution_count": 25,
     "metadata": {},
     "output_type": "execute_result"
    }
   ],
   "source": [
    "recommend('Harry Potter and the Chamber of Secrets (Book 2)') #testing"
   ]
  },
  {
   "cell_type": "code",
   "execution_count": 26,
   "metadata": {},
   "outputs": [
    {
     "name": "stdout",
     "output_type": "stream",
     "text": [
      "Note: you may need to restart the kernel to use updated packages.\n"
     ]
    },
    {
     "name": "stderr",
     "output_type": "stream",
     "text": [
      "ERROR: Could not find a version that satisfies the requirement pickle (from versions: none)\n",
      "ERROR: No matching distribution found for pickle\n"
     ]
    }
   ],
   "source": [
    "pip install pickle"
   ]
  },
  {
   "cell_type": "code",
   "execution_count": 31,
   "metadata": {},
   "outputs": [],
   "source": [
    "import pickle\n"
   ]
  },
  {
   "cell_type": "code",
   "execution_count": 29,
   "metadata": {
    "id": "PCMyF6-08QKr"
   },
   "outputs": [],
   "source": [
    "pickle.dump(pt,open('pt.pkl','wb'))\n",
    "pickle.dump(books,open('books.pkl','wb'))\n",
    "pickle.dump(similarity_scores,open('similarity_scores.pkl','wb'))"
   ]
  },
  {
   "cell_type": "code",
   "execution_count": null,
   "metadata": {},
   "outputs": [],
   "source": []
  }
 ],
 "metadata": {
  "colab": {
   "collapsed_sections": [],
   "provenance": []
  },
  "kernelspec": {
   "display_name": "Python 3 (ipykernel)",
   "language": "python",
   "name": "python3"
  },
  "language_info": {
   "codemirror_mode": {
    "name": "ipython",
    "version": 3
   },
   "file_extension": ".py",
   "mimetype": "text/x-python",
   "name": "python",
   "nbconvert_exporter": "python",
   "pygments_lexer": "ipython3",
   "version": "3.9.12"
  }
 },
 "nbformat": 4,
 "nbformat_minor": 1
}
